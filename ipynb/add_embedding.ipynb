{
 "cells": [
  {
   "cell_type": "markdown",
   "id": "d479a22c-5095-416a-87f5-8d6b1298dc0d",
   "metadata": {},
   "source": [
    "# 补充添加之前已入库的内容没有embedding"
   ]
  },
  {
   "cell_type": "code",
   "execution_count": null,
   "id": "4ef8501d-2546-40cf-8834-61ab25ab4a6c",
   "metadata": {},
   "outputs": [],
   "source": [
    "import os\n",
    "import requests\n",
    "import json\n",
    "import faiss\n",
    "import numpy as np\n",
    "import mysql.connector\n",
    "from tqdm import tqdm"
   ]
  },
  {
   "cell_type": "code",
   "execution_count": null,
   "id": "a36d4f53-86a3-4c33-bbbd-1bb9cbad14d1",
   "metadata": {},
   "outputs": [],
   "source": [
    "OPENAI_KEY = os.getenv('OPENAI_KEY', 'sk-V8RTUXs5GF4dQ5o4B0618fA095F9425986732423563115Ea')\n",
    "OPENAI_BASE_URL = os.getenv('OPENAI_URL', 'https://api.bltcy.ai/v1')\n",
    "MODEL_NAME = \"BAAI/bge-large-en-v1.5\" #\"gpt-4o-2024-11-20\"\n",
    "\n",
    "url = f\"{OPENAI_BASE_URL}/embeddings\"\n",
    "\n",
    "headers = {\n",
    "   'Authorization': f'Bearer {OPENAI_KEY}',\n",
    "   'Content-Type': 'application/json'\n",
    "}\n",
    "\n",
    "recall_url = \"http://152.32.218.226:9999/news_server/api/recallTask\""
   ]
  },
  {
   "cell_type": "code",
   "execution_count": null,
   "id": "d245afdb-26af-4c25-b562-423f5d4d0c09",
   "metadata": {
    "scrolled": true
   },
   "outputs": [],
   "source": [
    "conn = mysql.connector.connect(host=\"152.32.218.226\", user=\"work\", password=\"Sqe3u8N_VP\", database=\"spider_news\")\n",
    "cursor = conn.cursor()\n",
    "cursor.execute(\"SELECT title, feature, unique_id FROM news_detail\")\n",
    "\n",
    "for row in tqdm(cursor):\n",
    "    title, feature, title_id = row\n",
    "    try:\n",
    "        tmp_feature = np.frombuffer(feature, dtype=np.float64).astype('float64')\n",
    "    except:\n",
    "        tmp_feature = []\n",
    "    if feature is None:# or len(tmp_feature)!=1024:\n",
    "        payload = json.dumps({\"model\": \"BAAI/bge-large-en-v1.5\", \"input\": title})\n",
    "        \n",
    "        response = requests.request(\"POST\", url, headers=headers, data=payload).json()\n",
    "        vector = response['data'][0]['embedding']\n",
    "        ans = np.array(vector).astype('float64').tolist()\n",
    "        data = {\n",
    "            \"taskname\": \"genVec\",\n",
    "            \"data\": [\n",
    "                {\"id\": title_id, \"result\": ans},\n",
    "            ]\n",
    "        }\n",
    "        call_response = requests.post(recall_url, json=data)\n",
    "        print(call_response.json())"
   ]
  },
  {
   "cell_type": "markdown",
   "id": "110922e2-7a07-42f3-b57f-20c211e4ff52",
   "metadata": {},
   "source": [
    "# 测试mysql"
   ]
  },
  {
   "cell_type": "code",
   "execution_count": null,
   "id": "8907e16b-77e1-4130-9c41-9d2a846894f0",
   "metadata": {
    "scrolled": true
   },
   "outputs": [],
   "source": [
    "conn = mysql.connector.connect(host=\"152.32.218.226\", user=\"work\", password=\"Sqe3u8N_VP\", database=\"spider_news\")\n",
    "cursor = conn.cursor()\n",
    "cursor.execute(\"SELECT unique_id, feature FROM news_detail\")\n",
    "features = []\n",
    "for row in cursor:\n",
    "    try:\n",
    "        tmp_feature = np.frombuffer(row[1], dtype=np.float64).astype('float64')\n",
    "        if len(tmp_feature) == 4096:\n",
    "            features.append(tmp_feature)\n",
    "            print(f\"有效数据行: {row[0]} - {len(tmp_feature)}\")\n",
    "        else:\n",
    "            print(f\"跳过无效数据行: {row[0]} - {len(tmp_feature)}\")\n",
    "    except Exception as e:\n",
    "        print(f\"跳过无效数据行: {row[0]} - {e}\")"
   ]
  },
  {
   "cell_type": "code",
   "execution_count": null,
   "id": "40b33f7d-d15d-47be-8590-ffda9c7f7074",
   "metadata": {},
   "outputs": [],
   "source": [
    "len(features)"
   ]
  },
  {
   "cell_type": "code",
   "execution_count": null,
   "id": "aefabe61-b4a1-4556-b92f-7c82220623fe",
   "metadata": {},
   "outputs": [],
   "source": []
  }
 ],
 "metadata": {
  "kernelspec": {
   "display_name": "base",
   "language": "python",
   "name": "python3"
  },
  "language_info": {
   "codemirror_mode": {
    "name": "ipython",
    "version": 3
   },
   "file_extension": ".py",
   "mimetype": "text/x-python",
   "name": "python",
   "nbconvert_exporter": "python",
   "pygments_lexer": "ipython3",
   "version": "3.12.9"
  }
 },
 "nbformat": 4,
 "nbformat_minor": 5
}
